{
 "cells": [
  {
   "cell_type": "markdown",
   "id": "25f6a246-26d5-4d6d-b839-6f5590bdba4c",
   "metadata": {},
   "source": [
    "# Natural Language Processing (NLP): Bag-of-words model"
   ]
  },
  {
   "cell_type": "markdown",
   "id": "18ee7f5f-4bf0-49bf-9e13-677290fa301d",
   "metadata": {},
   "source": [
    "## Import statements"
   ]
  },
  {
   "cell_type": "code",
   "execution_count": 2,
   "id": "70b8f724-ba4c-4279-b88a-4dd6e79d7f3b",
   "metadata": {
    "execution": {
     "iopub.execute_input": "2023-12-05T21:43:23.053290Z",
     "iopub.status.busy": "2023-12-05T21:43:23.052290Z",
     "iopub.status.idle": "2023-12-05T21:43:26.119674Z",
     "shell.execute_reply": "2023-12-05T21:43:26.119229Z",
     "shell.execute_reply.started": "2023-12-05T21:43:23.053252Z"
    },
    "tags": []
   },
   "outputs": [
    {
     "name": "stderr",
     "output_type": "stream",
     "text": [
      "[nltk_data] Downloading package stopwords to\n",
      "[nltk_data]     /Users/daniel/nltk_data...\n",
      "[nltk_data]   Package stopwords is already up-to-date!\n",
      "[nltk_data] Downloading package punkt to /Users/daniel/nltk_data...\n",
      "[nltk_data]   Package punkt is already up-to-date!\n"
     ]
    }
   ],
   "source": [
    "import pandas as pd\n",
    "import numpy as np\n",
    "import matplotlib.pyplot as plt\n",
    "import seaborn as sns\n",
    "import string\n",
    "\n",
    "plt.style.use('seaborn-pastel')\n",
    "\n",
    "import nltk\n",
    "from nltk.corpus import stopwords\n",
    "from nltk.stem import PorterStemmer\n",
    "from nltk.tokenize import word_tokenize\n",
    "nltk.download('stopwords')\n",
    "nltk.download('punkt')\n",
    "\n",
    "from sklearn.preprocessing import MultiLabelBinarizer\n",
    "from sklearn.naive_bayes import MultinomialNB\n",
    "from sklearn.model_selection import train_test_split\n",
    "from sklearn.metrics import accuracy_score\n",
    "from sklearn.metrics import confusion_matrix\n",
    "from sklearn.metrics import ConfusionMatrixDisplay"
   ]
  },
  {
   "cell_type": "markdown",
   "id": "f8047181-73f9-4b1d-98aa-e72a4b6677ec",
   "metadata": {},
   "source": [
    "## Read in csv data\n",
    "Steam is a video game digital distribution service with a vast community of gamers globally. A lot of gamers write reviews on the game page and have the option of choosing whether they would recommend this game to others or not.  \n",
    "**review_id** --> Unique ID for each review  \n",
    "**title** --> Title of the game  \n",
    "**year** --> Year in which the review was posted  \n",
    "**user_review** --> Full Text of the review posted by a user  \n",
    "**user_suggestion** --> (Target) Game marked Recommended(1) and Not Recommended(0) by the user"
   ]
  },
  {
   "cell_type": "code",
   "execution_count": 3,
   "id": "166b2a01-9ec0-41e8-a88d-a5f60e216364",
   "metadata": {
    "execution": {
     "iopub.execute_input": "2023-12-05T21:43:47.402940Z",
     "iopub.status.busy": "2023-12-05T21:43:47.400996Z",
     "iopub.status.idle": "2023-12-05T21:43:51.689834Z",
     "shell.execute_reply": "2023-12-05T21:43:51.689529Z",
     "shell.execute_reply.started": "2023-12-05T21:43:47.402872Z"
    },
    "tags": []
   },
   "outputs": [
    {
     "data": {
      "text/html": [
       "<div>\n",
       "<style scoped>\n",
       "    .dataframe tbody tr th:only-of-type {\n",
       "        vertical-align: middle;\n",
       "    }\n",
       "\n",
       "    .dataframe tbody tr th {\n",
       "        vertical-align: top;\n",
       "    }\n",
       "\n",
       "    .dataframe thead th {\n",
       "        text-align: right;\n",
       "    }\n",
       "</style>\n",
       "<table border=\"1\" class=\"dataframe\">\n",
       "  <thead>\n",
       "    <tr style=\"text-align: right;\">\n",
       "      <th></th>\n",
       "      <th>review_id</th>\n",
       "      <th>title</th>\n",
       "      <th>year</th>\n",
       "      <th>user_review</th>\n",
       "      <th>user_suggestion</th>\n",
       "    </tr>\n",
       "  </thead>\n",
       "  <tbody>\n",
       "    <tr>\n",
       "      <th>3289</th>\n",
       "      <td>3753</td>\n",
       "      <td>Ring of Elysium</td>\n",
       "      <td>2018.0</td>\n",
       "      <td>Early Access ReviewThis Game is amazing 10/10 ...</td>\n",
       "      <td>1</td>\n",
       "    </tr>\n",
       "    <tr>\n",
       "      <th>11302</th>\n",
       "      <td>16799</td>\n",
       "      <td>Eternal Card Game</td>\n",
       "      <td>2018.0</td>\n",
       "      <td>I've read a lot of reviews comparing this game...</td>\n",
       "      <td>0</td>\n",
       "    </tr>\n",
       "    <tr>\n",
       "      <th>9148</th>\n",
       "      <td>12158</td>\n",
       "      <td>PlanetSide 2</td>\n",
       "      <td>2017.0</td>\n",
       "      <td>The Best online non ww2  FPS with massive batt...</td>\n",
       "      <td>1</td>\n",
       "    </tr>\n",
       "    <tr>\n",
       "      <th>15614</th>\n",
       "      <td>23049</td>\n",
       "      <td>AdventureQuest 3D</td>\n",
       "      <td>2017.0</td>\n",
       "      <td>Early Access ReviewI'ts good. Considering its ...</td>\n",
       "      <td>1</td>\n",
       "    </tr>\n",
       "    <tr>\n",
       "      <th>6035</th>\n",
       "      <td>8410</td>\n",
       "      <td>DCS World Steam Edition</td>\n",
       "      <td>2017.0</td>\n",
       "      <td>Clearly a great sim, but there are major perfo...</td>\n",
       "      <td>1</td>\n",
       "    </tr>\n",
       "    <tr>\n",
       "      <th>...</th>\n",
       "      <td>...</td>\n",
       "      <td>...</td>\n",
       "      <td>...</td>\n",
       "      <td>...</td>\n",
       "      <td>...</td>\n",
       "    </tr>\n",
       "    <tr>\n",
       "      <th>2971</th>\n",
       "      <td>3435</td>\n",
       "      <td>War Thunder</td>\n",
       "      <td>2018.0</td>\n",
       "      <td>Absolutely not worth your time, I promise you....</td>\n",
       "      <td>0</td>\n",
       "    </tr>\n",
       "    <tr>\n",
       "      <th>13800</th>\n",
       "      <td>19744</td>\n",
       "      <td>Creativerse</td>\n",
       "      <td>2016.0</td>\n",
       "      <td>Early Access ReviewVery nice cartoonish feel t...</td>\n",
       "      <td>1</td>\n",
       "    </tr>\n",
       "    <tr>\n",
       "      <th>16639</th>\n",
       "      <td>24608</td>\n",
       "      <td>Bloons TD Battles</td>\n",
       "      <td>2017.0</td>\n",
       "      <td>If you've ever played any of the blo...</td>\n",
       "      <td>1</td>\n",
       "    </tr>\n",
       "    <tr>\n",
       "      <th>12712</th>\n",
       "      <td>18209</td>\n",
       "      <td>RaceRoom Racing Experience</td>\n",
       "      <td>2016.0</td>\n",
       "      <td>This game created a new concept, Free to play-...</td>\n",
       "      <td>0</td>\n",
       "    </tr>\n",
       "    <tr>\n",
       "      <th>12281</th>\n",
       "      <td>17778</td>\n",
       "      <td>Bless Online</td>\n",
       "      <td>2018.0</td>\n",
       "      <td>Early Access ReviewGARBAGE!! DO NOT BUY!! STAY...</td>\n",
       "      <td>0</td>\n",
       "    </tr>\n",
       "  </tbody>\n",
       "</table>\n",
       "<p>5248 rows × 5 columns</p>\n",
       "</div>"
      ],
      "text/plain": [
       "       review_id                       title    year  \\\n",
       "3289        3753             Ring of Elysium  2018.0   \n",
       "11302      16799           Eternal Card Game  2018.0   \n",
       "9148       12158                PlanetSide 2  2017.0   \n",
       "15614      23049           AdventureQuest 3D  2017.0   \n",
       "6035        8410     DCS World Steam Edition  2017.0   \n",
       "...          ...                         ...     ...   \n",
       "2971        3435                 War Thunder  2018.0   \n",
       "13800      19744                 Creativerse  2016.0   \n",
       "16639      24608           Bloons TD Battles  2017.0   \n",
       "12712      18209  RaceRoom Racing Experience  2016.0   \n",
       "12281      17778                Bless Online  2018.0   \n",
       "\n",
       "                                             user_review  user_suggestion  \n",
       "3289   Early Access ReviewThis Game is amazing 10/10 ...                1  \n",
       "11302  I've read a lot of reviews comparing this game...                0  \n",
       "9148   The Best online non ww2  FPS with massive batt...                1  \n",
       "15614  Early Access ReviewI'ts good. Considering its ...                1  \n",
       "6035   Clearly a great sim, but there are major perfo...                1  \n",
       "...                                                  ...              ...  \n",
       "2971   Absolutely not worth your time, I promise you....                0  \n",
       "13800  Early Access ReviewVery nice cartoonish feel t...                1  \n",
       "16639            If you've ever played any of the blo...                1  \n",
       "12712  This game created a new concept, Free to play-...                0  \n",
       "12281  Early Access ReviewGARBAGE!! DO NOT BUY!! STAY...                0  \n",
       "\n",
       "[5248 rows x 5 columns]"
      ]
     },
     "metadata": {},
     "output_type": "display_data"
    }
   ],
   "source": [
    "steam = pd.read_csv(\"https://raw.githubusercontent.com/BaroqueObama/hhs-ws-bag-of-words/main/steam.csv\",encoding='ISO-8859-1') # encoding='ISO-8859-1' allows us to read unicode characters without issue\n",
    "# We're only using 30% of the available data because Colab crashes.\n",
    "steam = steam.sample(frac=0.3)\n",
    "display(steam)"
   ]
  },
  {
   "cell_type": "markdown",
   "id": "c432a8e8-426e-408b-9fe5-e44f3baad4c0",
   "metadata": {},
   "source": [
    "### Drop uneeded columns (review_id, title, year) and NaN values if any"
   ]
  },
  {
   "cell_type": "code",
   "execution_count": 4,
   "id": "3c65bce3-f0fa-4773-b69a-a8489b0b162d",
   "metadata": {
    "execution": {
     "iopub.execute_input": "2023-12-05T21:45:36.945794Z",
     "iopub.status.busy": "2023-12-05T21:45:36.941412Z",
     "iopub.status.idle": "2023-12-05T21:45:36.968840Z",
     "shell.execute_reply": "2023-12-05T21:45:36.967793Z",
     "shell.execute_reply.started": "2023-12-05T21:45:36.945689Z"
    },
    "tags": []
   },
   "outputs": [
    {
     "data": {
      "text/html": [
       "<div>\n",
       "<style scoped>\n",
       "    .dataframe tbody tr th:only-of-type {\n",
       "        vertical-align: middle;\n",
       "    }\n",
       "\n",
       "    .dataframe tbody tr th {\n",
       "        vertical-align: top;\n",
       "    }\n",
       "\n",
       "    .dataframe thead th {\n",
       "        text-align: right;\n",
       "    }\n",
       "</style>\n",
       "<table border=\"1\" class=\"dataframe\">\n",
       "  <thead>\n",
       "    <tr style=\"text-align: right;\">\n",
       "      <th></th>\n",
       "      <th>user_review</th>\n",
       "      <th>user_suggestion</th>\n",
       "    </tr>\n",
       "  </thead>\n",
       "  <tbody>\n",
       "    <tr>\n",
       "      <th>3289</th>\n",
       "      <td>Early Access ReviewThis Game is amazing 10/10 ...</td>\n",
       "      <td>1</td>\n",
       "    </tr>\n",
       "    <tr>\n",
       "      <th>11302</th>\n",
       "      <td>I've read a lot of reviews comparing this game...</td>\n",
       "      <td>0</td>\n",
       "    </tr>\n",
       "    <tr>\n",
       "      <th>9148</th>\n",
       "      <td>The Best online non ww2  FPS with massive batt...</td>\n",
       "      <td>1</td>\n",
       "    </tr>\n",
       "    <tr>\n",
       "      <th>15614</th>\n",
       "      <td>Early Access ReviewI'ts good. Considering its ...</td>\n",
       "      <td>1</td>\n",
       "    </tr>\n",
       "    <tr>\n",
       "      <th>6035</th>\n",
       "      <td>Clearly a great sim, but there are major perfo...</td>\n",
       "      <td>1</td>\n",
       "    </tr>\n",
       "    <tr>\n",
       "      <th>...</th>\n",
       "      <td>...</td>\n",
       "      <td>...</td>\n",
       "    </tr>\n",
       "    <tr>\n",
       "      <th>2971</th>\n",
       "      <td>Absolutely not worth your time, I promise you....</td>\n",
       "      <td>0</td>\n",
       "    </tr>\n",
       "    <tr>\n",
       "      <th>13800</th>\n",
       "      <td>Early Access ReviewVery nice cartoonish feel t...</td>\n",
       "      <td>1</td>\n",
       "    </tr>\n",
       "    <tr>\n",
       "      <th>16639</th>\n",
       "      <td>If you've ever played any of the blo...</td>\n",
       "      <td>1</td>\n",
       "    </tr>\n",
       "    <tr>\n",
       "      <th>12712</th>\n",
       "      <td>This game created a new concept, Free to play-...</td>\n",
       "      <td>0</td>\n",
       "    </tr>\n",
       "    <tr>\n",
       "      <th>12281</th>\n",
       "      <td>Early Access ReviewGARBAGE!! DO NOT BUY!! STAY...</td>\n",
       "      <td>0</td>\n",
       "    </tr>\n",
       "  </tbody>\n",
       "</table>\n",
       "<p>5248 rows × 2 columns</p>\n",
       "</div>"
      ],
      "text/plain": [
       "                                             user_review  user_suggestion\n",
       "3289   Early Access ReviewThis Game is amazing 10/10 ...                1\n",
       "11302  I've read a lot of reviews comparing this game...                0\n",
       "9148   The Best online non ww2  FPS with massive batt...                1\n",
       "15614  Early Access ReviewI'ts good. Considering its ...                1\n",
       "6035   Clearly a great sim, but there are major perfo...                1\n",
       "...                                                  ...              ...\n",
       "2971   Absolutely not worth your time, I promise you....                0\n",
       "13800  Early Access ReviewVery nice cartoonish feel t...                1\n",
       "16639            If you've ever played any of the blo...                1\n",
       "12712  This game created a new concept, Free to play-...                0\n",
       "12281  Early Access ReviewGARBAGE!! DO NOT BUY!! STAY...                0\n",
       "\n",
       "[5248 rows x 2 columns]"
      ]
     },
     "metadata": {},
     "output_type": "display_data"
    }
   ],
   "source": [
    "steam.drop(columns=steam.columns[0:3],inplace=True)\n",
    "steam.dropna(axis=0,inplace=True)\n",
    "display(steam)"
   ]
  },
  {
   "cell_type": "markdown",
   "id": "be481dc1-3bca-4106-9c23-4962c554bfb3",
   "metadata": {},
   "source": [
    "### Plot the distribution between Recommended and Not Recommended game reviews"
   ]
  },
  {
   "cell_type": "code",
   "execution_count": 5,
   "id": "ee5bbe1d-1dbe-4774-b432-d7fc2f13689e",
   "metadata": {
    "execution": {
     "iopub.execute_input": "2023-12-05T21:45:52.534745Z",
     "iopub.status.busy": "2023-12-05T21:45:52.533697Z",
     "iopub.status.idle": "2023-12-05T21:45:52.631116Z",
     "shell.execute_reply": "2023-12-05T21:45:52.630669Z",
     "shell.execute_reply.started": "2023-12-05T21:45:52.534681Z"
    },
    "tags": []
   },
   "outputs": [
    {
     "data": {
      "image/png": "[encoded data removed]",
      "text/plain": [
       "<Figure size 1000x500 with 1 Axes>"
      ]
     },
     "metadata": {},
     "output_type": "display_data"
    }
   ],
   "source": [
    "ax = steam[steam.columns[1]].value_counts().plot(kind='bar', title='Count of Game Reviews by Recommendation', figsize=(10, 5))\n",
    "ax.set_xlabel('Recommend = 1, Not Recommend = 0')\n",
    "plt.show()"
   ]
  },
  {
   "cell_type": "markdown",
   "id": "84ce9aa6-912a-4a3d-bb57-cd7ccb302fa5",
   "metadata": {},
   "source": [
    "## Tokenize a string by splitting it into a list of words (split at each space)"
   ]
  },
  {
   "cell_type": "code",
   "execution_count": 6,
   "id": "45323639-1dea-423c-9dad-e8c88a3aa2de",
   "metadata": {
    "execution": {
     "iopub.execute_input": "2023-12-05T21:46:39.018342Z",
     "iopub.status.busy": "2023-12-05T21:46:39.017870Z",
     "iopub.status.idle": "2023-12-05T21:46:39.026342Z",
     "shell.execute_reply": "2023-12-05T21:46:39.023724Z",
     "shell.execute_reply.started": "2023-12-05T21:46:39.018312Z"
    }
   },
   "outputs": [
    {
     "name": "stdout",
     "output_type": "stream",
     "text": [
      "I ain't got much sleeping last-night. Don't you think 3 hours' sleep is enough?\n"
     ]
    }
   ],
   "source": [
    "test_string = \"I ain't got much sleeping last-night. Don't you think 3 hours' sleep is enough?\"\n",
    "print(test_string)"
   ]
  },
  {
   "cell_type": "code",
   "execution_count": 7,
   "id": "9fdf1ded-4149-41c1-9fae-0524317be02d",
   "metadata": {
    "execution": {
     "iopub.execute_input": "2023-12-05T21:48:23.547495Z",
     "iopub.status.busy": "2023-12-05T21:48:23.546225Z",
     "iopub.status.idle": "2023-12-05T21:48:23.555192Z",
     "shell.execute_reply": "2023-12-05T21:48:23.553714Z",
     "shell.execute_reply.started": "2023-12-05T21:48:23.547430Z"
    },
    "tags": []
   },
   "outputs": [
    {
     "name": "stdout",
     "output_type": "stream",
     "text": [
      "['I', \"ain't\", 'got', 'much', 'sleeping', 'last-night.', \"Don't\", 'you', 'think', '3', \"hours'\", 'sleep', 'is', 'enough?']\n"
     ]
    }
   ],
   "source": [
    "tokens = test_string.split() # Hint, use .split()\n",
    "#[\"I\", \"ain't\", \"got\", \"much\", \"sleeping\", \"last-night.\", ...]\n",
    "print(tokens)"
   ]
  },
  {
   "cell_type": "markdown",
   "id": "a58414c1-ba48-42d4-87c5-61265583be8b",
   "metadata": {},
   "source": [
    "### Solution Here\n",
    "<details>\n",
    "  <summary>Click to reveal answer. </summary>\n",
    "\n",
    "```python\n",
    "tokens = test_string.split()\n",
    "print(tokens)\n",
    "```\n",
    "(You still have to copy paste this code and run it)\n",
    "</details>"
   ]
  },
  {
   "cell_type": "markdown",
   "id": "61ade1ee-55e2-448f-a2ca-587be560ee42",
   "metadata": {},
   "source": [
    "## Now tokenize all the reviews in the DataFrame"
   ]
  },
  {
   "cell_type": "markdown",
   "id": "7e94d61c-738b-44a5-86a8-23e9fa33b655",
   "metadata": {},
   "source": [
    "### We can tokenize all the items by applying a lambda (anonymous) function to each element."
   ]
  },
  {
   "cell_type": "code",
   "execution_count": 8,
   "id": "1a6d027e-56be-4130-af0a-1cb163af2016",
   "metadata": {
    "execution": {
     "iopub.execute_input": "2023-12-05T21:28:15.062380Z",
     "iopub.status.busy": "2023-12-05T21:28:15.061020Z",
     "iopub.status.idle": "2023-12-05T21:28:15.074300Z",
     "shell.execute_reply": "2023-12-05T21:28:15.073134Z",
     "shell.execute_reply.started": "2023-12-05T21:28:15.062325Z"
    }
   },
   "outputs": [],
   "source": [
    "# Lambda functions are just un-named functions\n",
    "\n",
    "# Regular function\n",
    "def add_one(input_number):\n",
    "    return input_number + 1\n",
    "\n",
    "# Lambda function named \"add_one\"\n",
    "add_one = lambda input_number: input_number + 1\n",
    "\n",
    "# Both these do the same thing. "
   ]
  },
  {
   "cell_type": "code",
   "execution_count": 9,
   "id": "8f8abbaa-9fb1-4999-9c82-c4316059567e",
   "metadata": {
    "execution": {
     "iopub.execute_input": "2023-12-05T21:55:37.591952Z",
     "iopub.status.busy": "2023-12-05T21:55:37.590459Z",
     "iopub.status.idle": "2023-12-05T21:55:37.649760Z",
     "shell.execute_reply": "2023-12-05T21:55:37.649368Z",
     "shell.execute_reply.started": "2023-12-05T21:55:37.591888Z"
    },
    "tags": []
   },
   "outputs": [
    {
     "data": {
      "text/html": [
       "<div>\n",
       "<style scoped>\n",
       "    .dataframe tbody tr th:only-of-type {\n",
       "        vertical-align: middle;\n",
       "    }\n",
       "\n",
       "    .dataframe tbody tr th {\n",
       "        vertical-align: top;\n",
       "    }\n",
       "\n",
       "    .dataframe thead th {\n",
       "        text-align: right;\n",
       "    }\n",
       "</style>\n",
       "<table border=\"1\" class=\"dataframe\">\n",
       "  <thead>\n",
       "    <tr style=\"text-align: right;\">\n",
       "      <th></th>\n",
       "      <th>user_review</th>\n",
       "      <th>user_suggestion</th>\n",
       "      <th>basic_tokenize</th>\n",
       "    </tr>\n",
       "  </thead>\n",
       "  <tbody>\n",
       "    <tr>\n",
       "      <th>3289</th>\n",
       "      <td>Early Access ReviewThis Game is amazing 10/10 ...</td>\n",
       "      <td>1</td>\n",
       "      <td>[Early, Access, ReviewThis, Game, is, amazing,...</td>\n",
       "    </tr>\n",
       "    <tr>\n",
       "      <th>11302</th>\n",
       "      <td>I've read a lot of reviews comparing this game...</td>\n",
       "      <td>0</td>\n",
       "      <td>[I've, read, a, lot, of, reviews, comparing, t...</td>\n",
       "    </tr>\n",
       "    <tr>\n",
       "      <th>9148</th>\n",
       "      <td>The Best online non ww2  FPS with massive batt...</td>\n",
       "      <td>1</td>\n",
       "      <td>[The, Best, online, non, ww2, FPS, with, massi...</td>\n",
       "    </tr>\n",
       "    <tr>\n",
       "      <th>15614</th>\n",
       "      <td>Early Access ReviewI'ts good. Considering its ...</td>\n",
       "      <td>1</td>\n",
       "      <td>[Early, Access, ReviewI'ts, good., Considering...</td>\n",
       "    </tr>\n",
       "    <tr>\n",
       "      <th>6035</th>\n",
       "      <td>Clearly a great sim, but there are major perfo...</td>\n",
       "      <td>1</td>\n",
       "      <td>[Clearly, a, great, sim,, but, there, are, maj...</td>\n",
       "    </tr>\n",
       "    <tr>\n",
       "      <th>...</th>\n",
       "      <td>...</td>\n",
       "      <td>...</td>\n",
       "      <td>...</td>\n",
       "    </tr>\n",
       "    <tr>\n",
       "      <th>2971</th>\n",
       "      <td>Absolutely not worth your time, I promise you....</td>\n",
       "      <td>0</td>\n",
       "      <td>[Absolutely, not, worth, your, time,, I, promi...</td>\n",
       "    </tr>\n",
       "    <tr>\n",
       "      <th>13800</th>\n",
       "      <td>Early Access ReviewVery nice cartoonish feel t...</td>\n",
       "      <td>1</td>\n",
       "      <td>[Early, Access, ReviewVery, nice, cartoonish, ...</td>\n",
       "    </tr>\n",
       "    <tr>\n",
       "      <th>16639</th>\n",
       "      <td>If you've ever played any of the blo...</td>\n",
       "      <td>1</td>\n",
       "      <td>[If, you've, ever, played, any, of, the, bloon...</td>\n",
       "    </tr>\n",
       "    <tr>\n",
       "      <th>12712</th>\n",
       "      <td>This game created a new concept, Free to play-...</td>\n",
       "      <td>0</td>\n",
       "      <td>[This, game, created, a, new, concept,, Free, ...</td>\n",
       "    </tr>\n",
       "    <tr>\n",
       "      <th>12281</th>\n",
       "      <td>Early Access ReviewGARBAGE!! DO NOT BUY!! STAY...</td>\n",
       "      <td>0</td>\n",
       "      <td>[Early, Access, ReviewGARBAGE!!, DO, NOT, BUY!...</td>\n",
       "    </tr>\n",
       "  </tbody>\n",
       "</table>\n",
       "<p>5248 rows × 3 columns</p>\n",
       "</div>"
      ],
      "text/plain": [
       "                                             user_review  user_suggestion  \\\n",
       "3289   Early Access ReviewThis Game is amazing 10/10 ...                1   \n",
       "11302  I've read a lot of reviews comparing this game...                0   \n",
       "9148   The Best online non ww2  FPS with massive batt...                1   \n",
       "15614  Early Access ReviewI'ts good. Considering its ...                1   \n",
       "6035   Clearly a great sim, but there are major perfo...                1   \n",
       "...                                                  ...              ...   \n",
       "2971   Absolutely not worth your time, I promise you....                0   \n",
       "13800  Early Access ReviewVery nice cartoonish feel t...                1   \n",
       "16639            If you've ever played any of the blo...                1   \n",
       "12712  This game created a new concept, Free to play-...                0   \n",
       "12281  Early Access ReviewGARBAGE!! DO NOT BUY!! STAY...                0   \n",
       "\n",
       "                                          basic_tokenize  \n",
       "3289   [Early, Access, ReviewThis, Game, is, amazing,...  \n",
       "11302  [I've, read, a, lot, of, reviews, comparing, t...  \n",
       "9148   [The, Best, online, non, ww2, FPS, with, massi...  \n",
       "15614  [Early, Access, ReviewI'ts, good., Considering...  \n",
       "6035   [Clearly, a, great, sim,, but, there, are, maj...  \n",
       "...                                                  ...  \n",
       "2971   [Absolutely, not, worth, your, time,, I, promi...  \n",
       "13800  [Early, Access, ReviewVery, nice, cartoonish, ...  \n",
       "16639  [If, you've, ever, played, any, of, the, bloon...  \n",
       "12712  [This, game, created, a, new, concept,, Free, ...  \n",
       "12281  [Early, Access, ReviewGARBAGE!!, DO, NOT, BUY!...  \n",
       "\n",
       "[5248 rows x 3 columns]"
      ]
     },
     "metadata": {},
     "output_type": "display_data"
    }
   ],
   "source": [
    "steam[\"basic_tokenize\"] = steam[\"user_review\"].apply(lambda review: review.split()) #Apply your tokenization to the review variable here)\n",
    "display(steam)"
   ]
  },
  {
   "cell_type": "markdown",
   "id": "653dc5e0-81c2-48b7-a557-e5c6bb1dcb8e",
   "metadata": {},
   "source": [
    "### Solution Here\n",
    "<details>\n",
    "  <summary>Click to reveal answer. </summary>\n",
    "\n",
    "```python\n",
    "steam[\"basic_tokenize\"] = steam[\"user_review\"].apply(lambda review: review.split(\" \"))\n",
    "display(steam)\n",
    "```\n",
    "(You still have to copy paste this code and run it)\n",
    "</details>"
   ]
  },
  {
   "cell_type": "markdown",
   "id": "162bde5c-da97-44ac-ac5f-6284f4218171",
   "metadata": {},
   "source": [
    "## Let's plot what kind of tokens were made!"
   ]
  },
  {
   "cell_type": "code",
   "execution_count": 10,
   "id": "f9824ceb-52dd-409c-a8e1-fac907af97a0",
   "metadata": {
    "execution": {
     "iopub.execute_input": "2023-12-05T21:56:02.018543Z",
     "iopub.status.busy": "2023-12-05T21:56:02.017728Z",
     "iopub.status.idle": "2023-12-05T21:56:02.278739Z",
     "shell.execute_reply": "2023-12-05T21:56:02.278282Z",
     "shell.execute_reply.started": "2023-12-05T21:56:02.018500Z"
    },
    "tags": []
   },
   "outputs": [
    {
     "data": {
      "image/png": "[encoded data removed]",
      "text/plain": [
       "<Figure size 640x480 with 3 Axes>"
      ]
     },
     "metadata": {},
     "output_type": "display_data"
    }
   ],
   "source": [
    "plt.subplot(3, 1, 1)\n",
    "steam[\"basic_tokenize\"].explode().value_counts().head(10).plot(kind='bar', title='Total: Tokenized word frequency')\n",
    "plt.subplot(3, 1, 2)\n",
    "steam[steam[\"user_suggestion\"]==1][\"basic_tokenize\"].explode().value_counts().head(10).plot(kind='bar', title='Recommended: Tokenized word frequency')\n",
    "plt.subplot(3, 1, 3)\n",
    "ax = steam[steam[\"user_suggestion\"]==0][\"basic_tokenize\"].explode().value_counts().head(10).plot(kind='bar', title='Not Recommended: Tokenized word frequency')\n",
    "plt.tight_layout()\n",
    "plt.show()"
   ]
  },
  {
   "cell_type": "markdown",
   "id": "841f6136-775f-4d53-8636-7b6ba2b09db3",
   "metadata": {},
   "source": [
    "## Let's now turn these tokens into something a model can comprehend (numbers)!"
   ]
  },
  {
   "cell_type": "markdown",
   "id": "d2dd2a8e-63a3-417f-86c1-1742b121bead",
   "metadata": {},
   "source": [
    "### X is the input (tokens), y is what we try to predict (1 = Recommend, 0 = Does not recommend)"
   ]
  },
  {
   "cell_type": "code",
   "execution_count": 11,
   "id": "0f2b3073-74a7-48a2-b4fa-8f6dffd0e867",
   "metadata": {
    "execution": {
     "iopub.execute_input": "2023-12-05T21:56:48.920348Z",
     "iopub.status.busy": "2023-12-05T21:56:48.919423Z",
     "iopub.status.idle": "2023-12-05T21:56:49.476729Z",
     "shell.execute_reply": "2023-12-05T21:56:49.476215Z",
     "shell.execute_reply.started": "2023-12-05T21:56:48.920301Z"
    },
    "tags": []
   },
   "outputs": [
    {
     "name": "stdout",
     "output_type": "stream",
     "text": [
      "(5248, 66376)\n"
     ]
    }
   ],
   "source": [
    "mlb = MultiLabelBinarizer()\n",
    "X = mlb.fit_transform(steam[\"basic_tokenize\"].values)\n",
    "y = steam[\"user_suggestion\"]\n",
    "print(X.shape)"
   ]
  },
  {
   "cell_type": "markdown",
   "id": "60f8d90d-5ba0-40dc-9450-6d4094a87054",
   "metadata": {},
   "source": [
    "### Let's split our data into train and test sets and train our Naive Bayes Model!"
   ]
  },
  {
   "cell_type": "code",
   "execution_count": 12,
   "id": "d8311be4-5d34-4625-9c10-929949d52258",
   "metadata": {
    "execution": {
     "iopub.execute_input": "2023-12-05T21:57:19.677213Z",
     "iopub.status.busy": "2023-12-05T21:57:19.676133Z",
     "iopub.status.idle": "2023-12-05T21:57:22.921909Z",
     "shell.execute_reply": "2023-12-05T21:57:22.921333Z",
     "shell.execute_reply.started": "2023-12-05T21:57:19.677169Z"
    },
    "tags": []
   },
   "outputs": [
    {
     "data": {
      "text/html": [
       "<style>#sk-container-id-1 {color: black;background-color: white;}#sk-container-id-1 pre{padding: 0;}#sk-container-id-1 div.sk-toggleable {background-color: white;}#sk-container-id-1 label.sk-toggleable__label {cursor: pointer;display: block;width: 100%;margin-bottom: 0;padding: 0.3em;box-sizing: border-box;text-align: center;}#sk-container-id-1 label.sk-toggleable__label-arrow:before {content: \"▸\";float: left;margin-right: 0.25em;color: #696969;}#sk-container-id-1 label.sk-toggleable__label-arrow:hover:before {color: black;}#sk-container-id-1 div.sk-estimator:hover label.sk-toggleable__label-arrow:before {color: black;}#sk-container-id-1 div.sk-toggleable__content {max-height: 0;max-width: 0;overflow: hidden;text-align: left;background-color: #f0f8ff;}#sk-container-id-1 div.sk-toggleable__content pre {margin: 0.2em;color: black;border-radius: 0.25em;background-color: #f0f8ff;}#sk-container-id-1 input.sk-toggleable__control:checked~div.sk-toggleable__content {max-height: 200px;max-width: 100%;overflow: auto;}#sk-container-id-1 input.sk-toggleable__control:checked~label.sk-toggleable__label-arrow:before {content: \"▾\";}#sk-container-id-1 div.sk-estimator input.sk-toggleable__control:checked~label.sk-toggleable__label {background-color: #d4ebff;}#sk-container-id-1 div.sk-label input.sk-toggleable__control:checked~label.sk-toggleable__label {background-color: #d4ebff;}#sk-container-id-1 input.sk-hidden--visually {border: 0;clip: rect(1px 1px 1px 1px);clip: rect(1px, 1px, 1px, 1px);height: 1px;margin: -1px;overflow: hidden;padding: 0;position: absolute;width: 1px;}#sk-container-id-1 div.sk-estimator {font-family: monospace;background-color: #f0f8ff;border: 1px dotted black;border-radius: 0.25em;box-sizing: border-box;margin-bottom: 0.5em;}#sk-container-id-1 div.sk-estimator:hover {background-color: #d4ebff;}#sk-container-id-1 div.sk-parallel-item::after {content: \"\";width: 100%;border-bottom: 1px solid gray;flex-grow: 1;}#sk-container-id-1 div.sk-label:hover label.sk-toggleable__label {background-color: #d4ebff;}#sk-container-id-1 div.sk-serial::before {content: \"\";position: absolute;border-left: 1px solid gray;box-sizing: border-box;top: 0;bottom: 0;left: 50%;z-index: 0;}#sk-container-id-1 div.sk-serial {display: flex;flex-direction: column;align-items: center;background-color: white;padding-right: 0.2em;padding-left: 0.2em;position: relative;}#sk-container-id-1 div.sk-item {position: relative;z-index: 1;}#sk-container-id-1 div.sk-parallel {display: flex;align-items: stretch;justify-content: center;background-color: white;position: relative;}#sk-container-id-1 div.sk-item::before, #sk-container-id-1 div.sk-parallel-item::before {content: \"\";position: absolute;border-left: 1px solid gray;box-sizing: border-box;top: 0;bottom: 0;left: 50%;z-index: -1;}#sk-container-id-1 div.sk-parallel-item {display: flex;flex-direction: column;z-index: 1;position: relative;background-color: white;}#sk-container-id-1 div.sk-parallel-item:first-child::after {align-self: flex-end;width: 50%;}#sk-container-id-1 div.sk-parallel-item:last-child::after {align-self: flex-start;width: 50%;}#sk-container-id-1 div.sk-parallel-item:only-child::after {width: 0;}#sk-container-id-1 div.sk-dashed-wrapped {border: 1px dashed gray;margin: 0 0.4em 0.5em 0.4em;box-sizing: border-box;padding-bottom: 0.4em;background-color: white;}#sk-container-id-1 div.sk-label label {font-family: monospace;font-weight: bold;display: inline-block;line-height: 1.2em;}#sk-container-id-1 div.sk-label-container {text-align: center;}#sk-container-id-1 div.sk-container {/* jupyter's `normalize.less` sets `[hidden] { display: none; }` but bootstrap.min.css set `[hidden] { display: none !important; }` so we also need the `!important` here to be able to override the default hidden behavior on the sphinx rendered scikit-learn.org. See: https://github.com/scikit-learn/scikit-learn/issues/21755 */display: inline-block !important;position: relative;}#sk-container-id-1 div.sk-text-repr-fallback {display: none;}</style><div id=\"sk-container-id-1\" class=\"sk-top-container\"><div class=\"sk-text-repr-fallback\"><pre>MultinomialNB()</pre><b>In a Jupyter environment, please rerun this cell to show the HTML representation or trust the notebook. <br />On GitHub, the HTML representation is unable to render, please try loading this page with nbviewer.org.</b></div><div class=\"sk-container\" hidden><div class=\"sk-item\"><div class=\"sk-estimator sk-toggleable\"><input class=\"sk-toggleable__control sk-hidden--visually\" id=\"sk-estimator-id-1\" type=\"checkbox\" checked><label for=\"sk-estimator-id-1\" class=\"sk-toggleable__label sk-toggleable__label-arrow\">MultinomialNB</label><div class=\"sk-toggleable__content\"><pre>MultinomialNB()</pre></div></div></div></div></div>"
      ],
      "text/plain": [
       "MultinomialNB()"
      ]
     },
     "execution_count": 12,
     "metadata": {},
     "output_type": "execute_result"
    }
   ],
   "source": [
    "X_train, X_test, y_train, y_test = train_test_split(X, y, random_state=42)\n",
    "model = MultinomialNB()\n",
    "model.fit(X_train, y_train)"
   ]
  },
  {
   "cell_type": "markdown",
   "id": "0b76f246-9ca0-4977-b4e1-643d5db39486",
   "metadata": {},
   "source": [
    "## Evaluate the Model"
   ]
  },
  {
   "cell_type": "code",
   "execution_count": 13,
   "id": "f0d29234-2d63-4849-8a96-ea754097b850",
   "metadata": {
    "execution": {
     "iopub.execute_input": "2023-12-05T21:58:24.370186Z",
     "iopub.status.busy": "2023-12-05T21:58:24.369513Z",
     "iopub.status.idle": "2023-12-05T21:58:24.769886Z",
     "shell.execute_reply": "2023-12-05T21:58:24.769559Z",
     "shell.execute_reply.started": "2023-12-05T21:58:24.370151Z"
    },
    "tags": []
   },
   "outputs": [
    {
     "name": "stdout",
     "output_type": "stream",
     "text": [
      "Accuracy: 0.8071646341463414\n"
     ]
    },
    {
     "data": {
      "image/png": "[encoded data removed]",
      "text/plain": [
       "<Figure size 640x480 with 2 Axes>"
      ]
     },
     "metadata": {},
     "output_type": "display_data"
    }
   ],
   "source": [
    "y_pred = model.predict(X_test)\n",
    "#display(confusion_matrix(y_test, y_pred))\n",
    "print(\"Accuracy:\", accuracy_score(y_test, y_pred))\n",
    "ConfusionMatrixDisplay.from_predictions(y_test, y_pred)\n",
    "plt.show()"
   ]
  },
  {
   "cell_type": "markdown",
   "id": "e4407680-5b5c-4b85-8713-1c68b1919d65",
   "metadata": {},
   "source": [
    "## Test the model for yourself!"
   ]
  },
  {
   "cell_type": "code",
   "execution_count": 14,
   "id": "317a2949-6471-4050-b3ae-89902f3749f3",
   "metadata": {
    "execution": {
     "iopub.execute_input": "2023-12-05T21:59:17.482083Z",
     "iopub.status.busy": "2023-12-05T21:59:17.481017Z",
     "iopub.status.idle": "2023-12-05T21:59:17.497303Z",
     "shell.execute_reply": "2023-12-05T21:59:17.496202Z",
     "shell.execute_reply.started": "2023-12-05T21:59:17.482019Z"
    }
   },
   "outputs": [],
   "source": [
    "def try_basic_model(game_review):\n",
    "    tokens = game_review.split(\" \")\n",
    "    mat = [[int(mlb.classes_[i] in tokens) for i in range(len(mlb.classes_))]]\n",
    "    if model.predict(mat) == 1:\n",
    "        return f\"Model predicts Recommend. Tokens: {tokens}\"\n",
    "    else:\n",
    "        return f\"Model predicts Does Not Recommend. Tokens: {tokens}\"\n"
   ]
  },
  {
   "cell_type": "markdown",
   "id": "524eb540-0493-45a0-a299-febebf0e6254",
   "metadata": {},
   "source": [
    "### Type in any hypothetical game review"
   ]
  },
  {
   "cell_type": "code",
   "execution_count": 15,
   "id": "458821ca-089a-481d-bf32-0bc7e551ca46",
   "metadata": {
    "execution": {
     "iopub.execute_input": "2023-12-05T22:02:28.368055Z",
     "iopub.status.busy": "2023-12-05T22:02:28.367164Z",
     "iopub.status.idle": "2023-12-05T22:02:28.404164Z",
     "shell.execute_reply": "2023-12-05T22:02:28.403378Z",
     "shell.execute_reply.started": "2023-12-05T22:02:28.367995Z"
    },
    "tags": []
   },
   "outputs": [
    {
     "data": {
      "text/plain": [
       "\"Model predicts Recommend. Tokens: ['This', 'game', 'is', 'bad']\""
      ]
     },
     "execution_count": 15,
     "metadata": {},
     "output_type": "execute_result"
    }
   ],
   "source": [
    "try_basic_model(\"This game is bad\")"
   ]
  },
  {
   "cell_type": "markdown",
   "id": "9ac79acd-300a-4496-9d39-cda926fd9ec6",
   "metadata": {},
   "source": [
    "# Improving the model: Tokenize better"
   ]
  },
  {
   "cell_type": "code",
   "execution_count": 16,
   "id": "ecc05337-c9d4-4759-85f5-25832f5af9ca",
   "metadata": {
    "execution": {
     "iopub.execute_input": "2023-12-05T22:03:52.935480Z",
     "iopub.status.busy": "2023-12-05T22:03:52.933694Z",
     "iopub.status.idle": "2023-12-05T22:03:52.952639Z",
     "shell.execute_reply": "2023-12-05T22:03:52.951348Z",
     "shell.execute_reply.started": "2023-12-05T22:03:52.935408Z"
    },
    "tags": []
   },
   "outputs": [
    {
     "name": "stdout",
     "output_type": "stream",
     "text": [
      "I ain't got much sleeping last-night. Don't you think 3 hours' sleep is enough?\n"
     ]
    }
   ],
   "source": [
    "test_string = \"I ain't got much sleeping last-night. Don't you think 3 hours' sleep is enough?\"\n",
    "print(test_string)"
   ]
  },
  {
   "cell_type": "markdown",
   "id": "e9456e40-2c23-4e4c-b7d0-11aa8f3f275f",
   "metadata": {},
   "source": [
    "### Split the text into more detail using nltk.word_tokenize"
   ]
  },
  {
   "cell_type": "code",
   "execution_count": 17,
   "id": "db6b6576-0f8b-4152-8678-025c4f7fddb2",
   "metadata": {
    "execution": {
     "iopub.execute_input": "2023-12-05T22:04:02.642559Z",
     "iopub.status.busy": "2023-12-05T22:04:02.641596Z",
     "iopub.status.idle": "2023-12-05T22:04:02.662821Z",
     "shell.execute_reply": "2023-12-05T22:04:02.662172Z",
     "shell.execute_reply.started": "2023-12-05T22:04:02.642513Z"
    },
    "tags": []
   },
   "outputs": [
    {
     "name": "stdout",
     "output_type": "stream",
     "text": [
      "['I', 'ai', \"n't\", 'got', 'much', 'sleeping', 'last-night', '.', 'Do', \"n't\", 'you', 'think', '3', 'hours', \"'\", 'sleep', 'is', 'enough', '?']\n"
     ]
    }
   ],
   "source": [
    "tokens = nltk.word_tokenize(test_string)\n",
    "print(tokens)"
   ]
  },
  {
   "cell_type": "markdown",
   "id": "eb094f5a-da41-400e-890f-3a67f3cd5a27",
   "metadata": {},
   "source": [
    "### Stop words: Frequent words that don't carry much meaning (Using stopwords)\n",
    "Try to remove these words"
   ]
  },
  {
   "cell_type": "code",
   "execution_count": 18,
   "id": "6abf5cd5-df6c-446b-9ccd-49c8a9f52c3e",
   "metadata": {
    "execution": {
     "iopub.execute_input": "2023-12-05T22:04:31.465758Z",
     "iopub.status.busy": "2023-12-05T22:04:31.464429Z",
     "iopub.status.idle": "2023-12-05T22:04:31.484100Z",
     "shell.execute_reply": "2023-12-05T22:04:31.483307Z",
     "shell.execute_reply.started": "2023-12-05T22:04:31.465710Z"
    }
   },
   "outputs": [
    {
     "name": "stdout",
     "output_type": "stream",
     "text": [
      "{'d', 'if', 'will', 'herself', 'as', 'by', 'some', 'did', 'themselves', 'over', 'can', 'that', 's', 'ma', 'these', \"aren't\", 'down', 'then', 'again', 'wasn', 'ourselves', 'there', 'any', 'why', 'a', 'it', 'shan', 'because', 'this', 'i', 'my', 'the', 'nor', 're', 'its', 'to', 'needn', 'into', 'those', 'no', 'but', 'so', 'own', 'have', \"it's\", 'few', 'should', 'o', \"wasn't\", 'an', 'mustn', 'shouldn', 'from', 'were', 'when', 't', 'had', 'before', 'we', 'being', 'haven', 'yours', 'him', 'has', 'or', \"couldn't\", 'yourselves', 'not', 'only', 'of', 'further', 'during', 'how', 'weren', \"should've\", \"doesn't\", \"shan't\", 'y', 'which', \"didn't\", 'her', 'you', 'very', 'other', 'hers', 'are', \"mightn't\", 'them', \"weren't\", 'where', 'same', \"you'd\", 'whom', \"mustn't\", 'and', \"needn't\", 'for', \"that'll\", 'won', 'after', 'below', 'yourself', 'couldn', 'having', \"hadn't\", 'do', 'most', \"won't\", 'he', 'here', 'against', 'up', 'itself', 'in', 'through', 'their', 'off', 'under', \"she's\", 'she', 'our', 'mightn', 'isn', 'all', 'who', \"isn't\", 'theirs', \"wouldn't\", 'your', 'doing', 'hadn', 'than', 'ours', 'at', 'does', 'too', 'll', 'until', 'm', \"you're\", \"you've\", 'just', 'wouldn', 'more', 'between', 'doesn', 'what', \"hasn't\", 'himself', 'was', 've', 'on', 'with', 'me', 'they', 'is', 'be', 'aren', 'myself', \"shouldn't\", 'out', 'been', 'while', \"don't\", 'about', 'both', 'ain', 'such', 'don', 'each', 'didn', 'am', 'hasn', \"haven't\", 'once', 'now', 'above', \"you'll\", 'his'}\n"
     ]
    }
   ],
   "source": [
    "stop_words = set(stopwords.words('english'))\n",
    "print(stop_words)"
   ]
  },
  {
   "cell_type": "code",
   "execution_count": 19,
   "id": "28e22723-01f8-46f2-a927-e0432f04eee2",
   "metadata": {
    "execution": {
     "iopub.execute_input": "2023-12-05T22:04:43.020467Z",
     "iopub.status.busy": "2023-12-05T22:04:43.019705Z",
     "iopub.status.idle": "2023-12-05T22:04:43.030250Z",
     "shell.execute_reply": "2023-12-05T22:04:43.029517Z",
     "shell.execute_reply.started": "2023-12-05T22:04:43.020428Z"
    },
    "tags": []
   },
   "outputs": [
    {
     "name": "stdout",
     "output_type": "stream",
     "text": [
      "['I', 'ai', \"n't\", 'got', 'much', 'sleeping', 'last-night', '.', 'Do', \"n't\", 'think', '3', 'hours', \"'\", 'sleep', 'enough', '?']\n"
     ]
    }
   ],
   "source": [
    "new_tokens = []\n",
    "for token in tokens:\n",
    "    if not token in stop_words:\n",
    "        new_tokens.append(token)\n",
    "print(new_tokens)"
   ]
  },
  {
   "cell_type": "markdown",
   "id": "3e451d17-c25b-4c8a-80a9-7f8e1e2d7e30",
   "metadata": {},
   "source": [
    "### Perform stemming to homogenize same words with different endings (using PorterStemmer())"
   ]
  },
  {
   "cell_type": "code",
   "execution_count": 20,
   "id": "e5244776-60a5-4f54-b9a0-cf7d75259149",
   "metadata": {
    "execution": {
     "iopub.execute_input": "2023-12-05T22:05:05.036989Z",
     "iopub.status.busy": "2023-12-05T22:05:05.036099Z",
     "iopub.status.idle": "2023-12-05T22:05:05.053176Z",
     "shell.execute_reply": "2023-12-05T22:05:05.051840Z",
     "shell.execute_reply.started": "2023-12-05T22:05:05.036887Z"
    }
   },
   "outputs": [
    {
     "name": "stdout",
     "output_type": "stream",
     "text": [
      "['i', 'ai', \"n't\", 'got', 'much', 'sleep', 'last-night', '.', 'do', \"n't\", 'think', '3', 'hour', \"'\", 'sleep', 'enough', '?']\n"
     ]
    }
   ],
   "source": [
    "newer_tokens = []\n",
    "for token in new_tokens:\n",
    "    newer_tokens.append(PorterStemmer().stem(token))\n",
    "print(newer_tokens)"
   ]
  },
  {
   "cell_type": "markdown",
   "id": "619cdb63-5e6c-4749-925f-ab520eed38b4",
   "metadata": {},
   "source": [
    "### Remove punctuation (using string.punctuation)"
   ]
  },
  {
   "cell_type": "code",
   "execution_count": 21,
   "id": "a3ce63fc-d747-4629-a60d-4b82900a495c",
   "metadata": {
    "execution": {
     "iopub.execute_input": "2023-12-05T22:05:32.513279Z",
     "iopub.status.busy": "2023-12-05T22:05:32.512242Z",
     "iopub.status.idle": "2023-12-05T22:05:32.526174Z",
     "shell.execute_reply": "2023-12-05T22:05:32.525128Z",
     "shell.execute_reply.started": "2023-12-05T22:05:32.513214Z"
    }
   },
   "outputs": [
    {
     "data": {
      "text/plain": [
       "'!\"#$%&\\'()*+,-./:;<=>?@[\\\\]^_`{|}~'"
      ]
     },
     "execution_count": 21,
     "metadata": {},
     "output_type": "execute_result"
    }
   ],
   "source": [
    "string.punctuation"
   ]
  },
  {
   "cell_type": "code",
   "execution_count": 22,
   "id": "9e5cb687-530f-450d-b3fb-aac52d978607",
   "metadata": {
    "execution": {
     "iopub.execute_input": "2023-12-05T22:05:35.746904Z",
     "iopub.status.busy": "2023-12-05T22:05:35.746169Z",
     "iopub.status.idle": "2023-12-05T22:05:35.769316Z",
     "shell.execute_reply": "2023-12-05T22:05:35.768378Z",
     "shell.execute_reply.started": "2023-12-05T22:05:35.746870Z"
    }
   },
   "outputs": [
    {
     "name": "stdout",
     "output_type": "stream",
     "text": [
      "['i', 'ai', \"n't\", 'got', 'much', 'sleep', 'last-night', 'do', \"n't\", 'think', '3', 'hour', 'sleep', 'enough']\n"
     ]
    }
   ],
   "source": [
    "final_tokens = []\n",
    "for token in newer_tokens:\n",
    "    if not token in string.punctuation:\n",
    "        final_tokens.append(token)\n",
    "print(final_tokens)"
   ]
  },
  {
   "cell_type": "markdown",
   "id": "9818e668-959c-427d-a564-21a44e45cd2d",
   "metadata": {},
   "source": [
    "## Now Apply these techniques on the entire DataFrame"
   ]
  },
  {
   "cell_type": "code",
   "execution_count": 23,
   "id": "cfed627b-1304-419d-a650-99861e83d69a",
   "metadata": {
    "execution": {
     "iopub.execute_input": "2023-12-05T22:07:59.600081Z",
     "iopub.status.busy": "2023-12-05T22:07:59.599308Z",
     "iopub.status.idle": "2023-12-05T22:08:06.679870Z",
     "shell.execute_reply": "2023-12-05T22:08:06.679587Z",
     "shell.execute_reply.started": "2023-12-05T22:07:59.600045Z"
    }
   },
   "outputs": [
    {
     "data": {
      "text/plain": [
       "3289     [earli, access, reviewthi, game, amaz, 10/10, ...\n",
       "11302    ['ve, read, lot, review, compar, game, hearths...\n",
       "9148     [best, onlin, non, ww2, fp, massiv, battl, gam...\n",
       "15614    [earli, access, reviewi't, good, consid, still...\n",
       "6035     [clearli, great, sim, major, perform, issu, vr...\n",
       "                               ...                        \n",
       "2971     [absolut, worth, time, promis, game, made, out...\n",
       "13800    [earli, access, reviewveri, nice, cartoonish, ...\n",
       "16639    ['ve, ever, play, bloon, td, game, 'll, love, ...\n",
       "12712    [game, creat, new, concept, free, play-, pay, ...\n",
       "12281    [earli, access, reviewgarbag, buy, stay, far, ...\n",
       "Name: advanced_tokenize, Length: 5248, dtype: object"
      ]
     },
     "metadata": {},
     "output_type": "display_data"
    }
   ],
   "source": [
    "stop_words = set(stopwords.words('english'))\n",
    "steam[\"advanced_tokenize\"] = steam[\"user_review\"].apply(lambda review: list(filter(lambda token: token not in string.punctuation, [PorterStemmer().stem(word) for word in nltk.word_tokenize(review) if word.lower() not in stop_words])))\n",
    "display(steam[\"advanced_tokenize\"])"
   ]
  },
  {
   "cell_type": "markdown",
   "id": "060f0223-5468-4056-9198-07a05cb06398",
   "metadata": {},
   "source": [
    "### Solution Here\n",
    "<details>\n",
    "  <summary>Click to reveal answer. </summary>\n",
    "\n",
    "```python\n",
    "stop_words = set(stopwords.words('english'))\n",
    "steam[\"advanced_tokenize\"] = steam[\"user_review\"].apply(lambda review: list(filter(lambda token: token not in string.punctuation, [PorterStemmer().stem(word) for word in nltk.word_tokenize(review) if word.lower() not in stop_words])))\n",
    "display(steam[\"advanced_tokenize\"])\n",
    "```\n",
    "(You still have to copy paste this code and run it)\n",
    "</details>"
   ]
  },
  {
   "cell_type": "markdown",
   "id": "2b4349e8-009e-44ad-ae1b-9326a73f8d4b",
   "metadata": {},
   "source": [
    "## Let's see what kinds of tokens we have"
   ]
  },
  {
   "cell_type": "code",
   "execution_count": 24,
   "id": "2e3836d1-d902-4cdb-8b93-5c528b10f65c",
   "metadata": {
    "execution": {
     "iopub.execute_input": "2023-12-05T22:08:58.665600Z",
     "iopub.status.busy": "2023-12-05T22:08:58.664337Z",
     "iopub.status.idle": "2023-12-05T22:08:58.879677Z",
     "shell.execute_reply": "2023-12-05T22:08:58.879319Z",
     "shell.execute_reply.started": "2023-12-05T22:08:58.665558Z"
    }
   },
   "outputs": [
    {
     "data": {
      "image/png": "[encoded data removed]",
      "text/plain": [
       "<Figure size 640x480 with 3 Axes>"
      ]
     },
     "metadata": {},
     "output_type": "display_data"
    }
   ],
   "source": [
    "plt.subplot(3, 1, 1)\n",
    "steam[\"advanced_tokenize\"].explode().value_counts().head(10).plot(kind='bar', title='Total: Tokenized word frequency')\n",
    "plt.subplot(3, 1, 2)\n",
    "steam[steam[\"user_suggestion\"]==1][\"advanced_tokenize\"].explode().value_counts().head(10).plot(kind='bar', title='Recommended: Tokenized word frequency')\n",
    "plt.subplot(3, 1, 3)\n",
    "ax = steam[steam[\"user_suggestion\"]==0][\"advanced_tokenize\"].explode().value_counts().head(10).plot(kind='bar', title='Not Recommended: Tokenized word frequency')\n",
    "plt.tight_layout()\n",
    "plt.show()"
   ]
  },
  {
   "cell_type": "markdown",
   "id": "7b8d4202-a8d0-4bb3-a1d5-fa7eb96904c1",
   "metadata": {},
   "source": [
    "## Create X and y set"
   ]
  },
  {
   "cell_type": "code",
   "execution_count": 25,
   "id": "693142dd-8dd8-4220-8f36-2fdcbcde6880",
   "metadata": {
    "execution": {
     "iopub.execute_input": "2023-12-05T22:09:34.207659Z",
     "iopub.status.busy": "2023-12-05T22:09:34.207189Z",
     "iopub.status.idle": "2023-12-05T22:09:34.470373Z",
     "shell.execute_reply": "2023-12-05T22:09:34.470089Z",
     "shell.execute_reply.started": "2023-12-05T22:09:34.207630Z"
    }
   },
   "outputs": [
    {
     "name": "stdout",
     "output_type": "stream",
     "text": [
      "(5248, 31033)\n"
     ]
    }
   ],
   "source": [
    "mlb = MultiLabelBinarizer()\n",
    "X = mlb.fit_transform(steam[\"advanced_tokenize\"].values)\n",
    "y = steam[\"user_suggestion\"]\n",
    "print(X.shape)"
   ]
  },
  {
   "cell_type": "markdown",
   "id": "46446a21-271c-4479-b04b-5b26367426d2",
   "metadata": {},
   "source": [
    "## Split Data and Train"
   ]
  },
  {
   "cell_type": "code",
   "execution_count": 26,
   "id": "b135170d-358a-4aeb-8042-d6e68b0ce892",
   "metadata": {
    "execution": {
     "iopub.execute_input": "2023-12-05T22:09:38.607233Z",
     "iopub.status.busy": "2023-12-05T22:09:38.606186Z",
     "iopub.status.idle": "2023-12-05T22:09:39.807240Z",
     "shell.execute_reply": "2023-12-05T22:09:39.806896Z",
     "shell.execute_reply.started": "2023-12-05T22:09:38.607190Z"
    }
   },
   "outputs": [
    {
     "data": {
      "text/html": [
       "<style>#sk-container-id-2 {color: black;background-color: white;}#sk-container-id-2 pre{padding: 0;}#sk-container-id-2 div.sk-toggleable {background-color: white;}#sk-container-id-2 label.sk-toggleable__label {cursor: pointer;display: block;width: 100%;margin-bottom: 0;padding: 0.3em;box-sizing: border-box;text-align: center;}#sk-container-id-2 label.sk-toggleable__label-arrow:before {content: \"▸\";float: left;margin-right: 0.25em;color: #696969;}#sk-container-id-2 label.sk-toggleable__label-arrow:hover:before {color: black;}#sk-container-id-2 div.sk-estimator:hover label.sk-toggleable__label-arrow:before {color: black;}#sk-container-id-2 div.sk-toggleable__content {max-height: 0;max-width: 0;overflow: hidden;text-align: left;background-color: #f0f8ff;}#sk-container-id-2 div.sk-toggleable__content pre {margin: 0.2em;color: black;border-radius: 0.25em;background-color: #f0f8ff;}#sk-container-id-2 input.sk-toggleable__control:checked~div.sk-toggleable__content {max-height: 200px;max-width: 100%;overflow: auto;}#sk-container-id-2 input.sk-toggleable__control:checked~label.sk-toggleable__label-arrow:before {content: \"▾\";}#sk-container-id-2 div.sk-estimator input.sk-toggleable__control:checked~label.sk-toggleable__label {background-color: #d4ebff;}#sk-container-id-2 div.sk-label input.sk-toggleable__control:checked~label.sk-toggleable__label {background-color: #d4ebff;}#sk-container-id-2 input.sk-hidden--visually {border: 0;clip: rect(1px 1px 1px 1px);clip: rect(1px, 1px, 1px, 1px);height: 1px;margin: -1px;overflow: hidden;padding: 0;position: absolute;width: 1px;}#sk-container-id-2 div.sk-estimator {font-family: monospace;background-color: #f0f8ff;border: 1px dotted black;border-radius: 0.25em;box-sizing: border-box;margin-bottom: 0.5em;}#sk-container-id-2 div.sk-estimator:hover {background-color: #d4ebff;}#sk-container-id-2 div.sk-parallel-item::after {content: \"\";width: 100%;border-bottom: 1px solid gray;flex-grow: 1;}#sk-container-id-2 div.sk-label:hover label.sk-toggleable__label {background-color: #d4ebff;}#sk-container-id-2 div.sk-serial::before {content: \"\";position: absolute;border-left: 1px solid gray;box-sizing: border-box;top: 0;bottom: 0;left: 50%;z-index: 0;}#sk-container-id-2 div.sk-serial {display: flex;flex-direction: column;align-items: center;background-color: white;padding-right: 0.2em;padding-left: 0.2em;position: relative;}#sk-container-id-2 div.sk-item {position: relative;z-index: 1;}#sk-container-id-2 div.sk-parallel {display: flex;align-items: stretch;justify-content: center;background-color: white;position: relative;}#sk-container-id-2 div.sk-item::before, #sk-container-id-2 div.sk-parallel-item::before {content: \"\";position: absolute;border-left: 1px solid gray;box-sizing: border-box;top: 0;bottom: 0;left: 50%;z-index: -1;}#sk-container-id-2 div.sk-parallel-item {display: flex;flex-direction: column;z-index: 1;position: relative;background-color: white;}#sk-container-id-2 div.sk-parallel-item:first-child::after {align-self: flex-end;width: 50%;}#sk-container-id-2 div.sk-parallel-item:last-child::after {align-self: flex-start;width: 50%;}#sk-container-id-2 div.sk-parallel-item:only-child::after {width: 0;}#sk-container-id-2 div.sk-dashed-wrapped {border: 1px dashed gray;margin: 0 0.4em 0.5em 0.4em;box-sizing: border-box;padding-bottom: 0.4em;background-color: white;}#sk-container-id-2 div.sk-label label {font-family: monospace;font-weight: bold;display: inline-block;line-height: 1.2em;}#sk-container-id-2 div.sk-label-container {text-align: center;}#sk-container-id-2 div.sk-container {/* jupyter's `normalize.less` sets `[hidden] { display: none; }` but bootstrap.min.css set `[hidden] { display: none !important; }` so we also need the `!important` here to be able to override the default hidden behavior on the sphinx rendered scikit-learn.org. See: https://github.com/scikit-learn/scikit-learn/issues/21755 */display: inline-block !important;position: relative;}#sk-container-id-2 div.sk-text-repr-fallback {display: none;}</style><div id=\"sk-container-id-2\" class=\"sk-top-container\"><div class=\"sk-text-repr-fallback\"><pre>MultinomialNB()</pre><b>In a Jupyter environment, please rerun this cell to show the HTML representation or trust the notebook. <br />On GitHub, the HTML representation is unable to render, please try loading this page with nbviewer.org.</b></div><div class=\"sk-container\" hidden><div class=\"sk-item\"><div class=\"sk-estimator sk-toggleable\"><input class=\"sk-toggleable__control sk-hidden--visually\" id=\"sk-estimator-id-2\" type=\"checkbox\" checked><label for=\"sk-estimator-id-2\" class=\"sk-toggleable__label sk-toggleable__label-arrow\">MultinomialNB</label><div class=\"sk-toggleable__content\"><pre>MultinomialNB()</pre></div></div></div></div></div>"
      ],
      "text/plain": [
       "MultinomialNB()"
      ]
     },
     "execution_count": 26,
     "metadata": {},
     "output_type": "execute_result"
    }
   ],
   "source": [
    "X_train, X_test, y_train, y_test = train_test_split(X, y, random_state=42)\n",
    "model = MultinomialNB()\n",
    "model.fit(X_train, y_train)"
   ]
  },
  {
   "cell_type": "markdown",
   "id": "bd17a432-1550-4bda-a5c0-f6d431611145",
   "metadata": {},
   "source": [
    "## Evaluate Model"
   ]
  },
  {
   "cell_type": "code",
   "execution_count": 27,
   "id": "68c10423-426f-48fe-9a58-de36a07378c0",
   "metadata": {
    "execution": {
     "iopub.execute_input": "2023-12-05T22:09:41.873787Z",
     "iopub.status.busy": "2023-12-05T22:09:41.872947Z",
     "iopub.status.idle": "2023-12-05T22:09:42.057113Z",
     "shell.execute_reply": "2023-12-05T22:09:42.056787Z",
     "shell.execute_reply.started": "2023-12-05T22:09:41.873745Z"
    }
   },
   "outputs": [
    {
     "name": "stdout",
     "output_type": "stream",
     "text": [
      "Accuracy: 0.8216463414634146\n"
     ]
    },
    {
     "data": {
      "image/png": "[encoded data removed]",
      "text/plain": [
       "<Figure size 640x480 with 2 Axes>"
      ]
     },
     "metadata": {},
     "output_type": "display_data"
    }
   ],
   "source": [
    "y_pred = model.predict(X_test)\n",
    "#display(confusion_matrix(y_test, y_pred))\n",
    "print(\"Accuracy:\", accuracy_score(y_test, y_pred))\n",
    "ConfusionMatrixDisplay.from_predictions(y_test, y_pred)\n",
    "plt.show()"
   ]
  },
  {
   "cell_type": "markdown",
   "id": "310bb907-91e1-4f69-b222-eecee759df88",
   "metadata": {},
   "source": [
    "## Try it out yourself with your own reviews!\n",
    "(Make sure you tokenize the words the same way in this function as you did when you trained the model)"
   ]
  },
  {
   "cell_type": "code",
   "execution_count": 36,
   "id": "a0aac0bd-bec9-4885-aa51-17c1ce52e24c",
   "metadata": {
    "execution": {
     "iopub.execute_input": "2023-12-05T22:09:44.751632Z",
     "iopub.status.busy": "2023-12-05T22:09:44.750727Z",
     "iopub.status.idle": "2023-12-05T22:09:44.772159Z",
     "shell.execute_reply": "2023-12-05T22:09:44.769725Z",
     "shell.execute_reply.started": "2023-12-05T22:09:44.751587Z"
    },
    "tags": []
   },
   "outputs": [],
   "source": [
    "def try_advanced_model(game_review):\n",
    "    stop_words = set(stopwords.words('english'))\n",
    "    tokens = list(filter(lambda token: token not in string.punctuation, [PorterStemmer().stem(word) for word in nltk.word_tokenize(game_review.translate(string.punctuation)) if word.lower() not in stop_words]))\n",
    "    mat = [[int(mlb.classes_[i] in tokens) for i in range(len(mlb.classes_))]]\n",
    "    if model.predict(mat) == 1:\n",
    "        return f\"Model predicts: Recommend\\nTokens: {tokens}\"\n",
    "    else:\n",
    "        return f\"Model predicts: Does Not Recommend\\nTokens: {tokens}\""
   ]
  },
  {
   "cell_type": "code",
   "execution_count": 40,
   "id": "b55009f6-3e9c-4971-be4e-c7a264c3abf7",
   "metadata": {
    "execution": {
     "iopub.execute_input": "2023-12-05T22:11:40.210788Z",
     "iopub.status.busy": "2023-12-05T22:11:40.210039Z",
     "iopub.status.idle": "2023-12-05T22:11:40.238069Z",
     "shell.execute_reply": "2023-12-05T22:11:40.237558Z",
     "shell.execute_reply.started": "2023-12-05T22:11:40.210752Z"
    },
    "tags": []
   },
   "outputs": [
    {
     "name": "stdout",
     "output_type": "stream",
     "text": [
      "Model predicts: Recommend\n",
      "Tokens: ['saw', 'dog', 'look', 'realist', 'actual', 'dog', '10/10']\n"
     ]
    }
   ],
   "source": [
    "comment = \"I saw a dog that looked more realistic than my actual dog 10/10\"\n",
    "print(try_advanced_model(comment))"
   ]
  }
 ],
 "metadata": {
  "kernelspec": {
   "display_name": "Python 3 (ipykernel)",
   "language": "python",
   "name": "python3"
  },
  "language_info": {
   "codemirror_mode": {
    "name": "ipython",
    "version": 3
   },
   "file_extension": ".py",
   "mimetype": "text/x-python",
   "name": "python",
   "nbconvert_exporter": "python",
   "pygments_lexer": "ipython3",
   "version": "3.9.15"
  }
 },
 "nbformat": 4,
 "nbformat_minor": 5
}
